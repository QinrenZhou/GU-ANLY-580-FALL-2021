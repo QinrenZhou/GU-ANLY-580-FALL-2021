{
 "cells": [
  {
   "cell_type": "markdown",
   "id": "a0723148-1b4a-4e86-a60d-f7579a11718a",
   "metadata": {},
   "source": [
    "# Lab 01: Setup computing environment"
   ]
  },
  {
   "cell_type": "markdown",
   "id": "fba952d1-533c-48d6-8ce5-4897c46d3f1f",
   "metadata": {},
   "source": [
    "### (10 pts) Task 1: Run this block of code to ensure that your dependencies are installed"
   ]
  },
  {
   "cell_type": "code",
   "execution_count": 1,
   "id": "533a1f9e-e784-4a52-89e3-cbe31657662a",
   "metadata": {},
   "outputs": [],
   "source": [
    "import numpy as np\n",
    "import tensorflow\n",
    "import torch"
   ]
  },
  {
   "cell_type": "markdown",
   "id": "a44a53aa-1b0a-45ab-83b0-1f18c1504d98",
   "metadata": {},
   "source": [
    "### (10 pts) Task 2: Complete the function `linear_transformation()` by implementing a matrix multiplication between the data matrix, `X` of size `M x N`, and the tensor, `W` of size `N x N` (an identity matrix)."
   ]
  },
  {
   "cell_type": "code",
   "execution_count": 2,
   "id": "a67a694b-7b5c-4f86-a7cb-63b7794d820b",
   "metadata": {},
   "outputs": [],
   "source": [
    "def linear_transformation(X, W):\n",
    "    \"\"\"\n",
    "    Parameters\n",
    "    ----------\n",
    "    X: np.array (M x N)\n",
    "        Data matrix\n",
    "    W: np.array(N x N)\n",
    "        Linear transformation\n",
    "    Returns\n",
    "    -------\n",
    "    X_prime: np.array (M x N)\n",
    "    \"\"\"\n",
    "    # Your code goes here\n",
    "    \n",
    "    X_ROWS,X_COLS=X.shape\n",
    "    W_ROWS,W_COLS=W.shape\n",
    "    res=np.zeros((X_ROWS,W_COLS))\n",
    "    for i in range(X_ROWS):\n",
    "        for k in range(W_COLS):\n",
    "            for j in range(X_COLS):\n",
    "                res[i][k]+=X[i][j]*W[j][k]\n",
    "                print (res)"
   ]
  },
  {
   "cell_type": "code",
   "execution_count": 3,
   "id": "8917b5dc-5306-477e-ba31-680f3c54386f",
   "metadata": {},
   "outputs": [],
   "source": [
    "W = np.identity(10)\n",
    "X = np.random.random((300, 10))"
   ]
  },
  {
   "cell_type": "code",
   "execution_count": null,
   "id": "676848dd",
   "metadata": {},
   "outputs": [],
   "source": [
    "X_tx = linear_transformation(X, W)\n",
    "assert (X_tx == X).all()"
   ]
  }
 ],
 "metadata": {
  "kernelspec": {
   "display_name": "Python 3",
   "language": "python",
   "name": "python3"
  }
 },
 "nbformat": 4,
 "nbformat_minor": 5
}
